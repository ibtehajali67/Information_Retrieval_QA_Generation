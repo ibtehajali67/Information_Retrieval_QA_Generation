{
 "cells": [
  {
   "cell_type": "code",
   "execution_count": 1,
   "id": "fd185b52",
   "metadata": {},
   "outputs": [],
   "source": [
    "from transformers import pipeline"
   ]
  },
  {
   "cell_type": "code",
   "execution_count": 2,
   "id": "6b2a1997",
   "metadata": {},
   "outputs": [],
   "source": [
    "from transformers import AutoTokenizer, AutoModelForQuestionAnswering\n",
    "import torch\n",
    "tokenizer = AutoTokenizer.from_pretrained(\"bert-large-uncased-whole-word-masking-finetuned-squad\")\n",
    "model = AutoModelForQuestionAnswering.from_pretrained(\"bert-large-uncased-whole-word-masking-finetuned-squad\")"
   ]
  },
  {
   "cell_type": "code",
   "execution_count": 3,
   "id": "a8c8e0c5",
   "metadata": {},
   "outputs": [
    {
     "name": "stderr",
     "output_type": "stream",
     "text": [
      "No model was supplied, defaulted to distilbert-base-cased-distilled-squad (https://huggingface.co/distilbert-base-cased-distilled-squad)\n"
     ]
    }
   ],
   "source": [
    "question_answerer = pipeline(\"question-answering\")"
   ]
  },
  {
   "cell_type": "code",
   "execution_count": 4,
   "id": "39a3837b",
   "metadata": {},
   "outputs": [],
   "source": [
    "text = r\"\"\"Non-fungible tokens are, in a way, tons like cryptocurrency. The record of their existence is live on blockchains, they will be bought and sold using cryptocurrency, and there’s not necessarily a physical asset that ties them to the critical world.\n",
    "NFTs differ from cryptocurrency therein; they’re non-fungible, meaning they can not be exchanged for a uniform item. Cash, for instance, could also be a fungible asset: Each dollar may be unique, but the actual dollar you’ve got doesn’t matter. If you exchange a $10 bill for two five-dollar ones, you continue to have $10. Trade your $10 for an autographed trading card, however, and you then have a non-fungible item: it’s unique, and while it’s going to have a price, it is not itself a trade commodity. Other samples of NFTs include artwork, website domain names, and in-game assets.\n",
    "What rights does ownership of an NFT give ?\n",
    "If the thought of claiming ownership to a tweet, a GIF, a bit of property in a web game, or a virtual cat seems odd, you are not alone in thinking so. NFTs are controversial, and it’s even as easy to seek out support for them online because it is to seek out people that think they do not make any sense.\n",
    "Even more confusing is what owning an NFT means: If you buy the NFT of a singular piece of art, you’ve got sole ownership over it and may do art what you would like, right? Not exactly.\n",
    "Ownership of NFT assets can support the transaction, but the Nyan Cat example may be a typical case where the creator still owns the work, but the NFT purchaser owns the first copy.\n",
    "\"\"\""
   ]
  },
  {
   "cell_type": "code",
   "execution_count": null,
   "id": "11781479",
   "metadata": {},
   "outputs": [],
   "source": [
    "def answer(inputs):\n",
    "    result = question_answerer(question=inputs, context=text)\n",
    "    return result"
   ]
  },
  {
   "cell_type": "code",
   "execution_count": null,
   "id": "a435fff0",
   "metadata": {},
   "outputs": [],
   "source": [
    "import random\n",
    "x = input(\"user:==>\")\n",
    "answer(x)"
   ]
  },
  {
   "cell_type": "code",
   "execution_count": null,
   "id": "80c83e99",
   "metadata": {},
   "outputs": [],
   "source": [
    "\n",
    "import random\n",
    "x = input(\"user:==>\")\n",
    "answer(x)"
   ]
  },
  {
   "cell_type": "code",
   "execution_count": null,
   "id": "055470fd",
   "metadata": {},
   "outputs": [],
   "source": [
    "# inputs = tokenizer(question, text, add_special_tokens=True, return_tensors=\"pt\")\n",
    "# input_ids = inputs[\"input_ids\"].tolist()[0]\n",
    "# outputs = model(**inputs)\n",
    "# answer_start_scores = outputs.start_logits\n",
    "# answer_end_scores = outputs.end_logits\n",
    "\n",
    "# # Get the most likely beginning of answer with the argmax of the score\n",
    "# answer_start = torch.argmax(answer_start_scores)\n",
    "# # Get the most likely end of answer with the argmax of the score \n",
    "# answer_end = torch.argmax(answer_end_scores) + 1\n",
    "\n",
    "# answer = tokenizer.convert_tokens_to_string(tokenizer.convert_ids_to_tokens(input_ids[answer_start:answer_end]))\n",
    "#answer"
   ]
  },
  {
   "cell_type": "code",
   "execution_count": null,
   "id": "1fcf9cce",
   "metadata": {},
   "outputs": [],
   "source": [
    "bot_1\n",
    "bot_2\n",
    "bot_3"
   ]
  },
  {
   "cell_type": "code",
   "execution_count": null,
   "id": "bd0c087a",
   "metadata": {},
   "outputs": [],
   "source": [
    "print(random.rand(x))"
   ]
  },
  {
   "cell_type": "code",
   "execution_count": null,
   "id": "5d232a9a",
   "metadata": {},
   "outputs": [],
   "source": [
    "text=\"i am ibtehaj\""
   ]
  },
  {
   "cell_type": "code",
   "execution_count": null,
   "id": "92c763ee",
   "metadata": {},
   "outputs": [],
   "source": [
    "!pip install spacy"
   ]
  },
  {
   "cell_type": "code",
   "execution_count": null,
   "id": "ddccb712",
   "metadata": {},
   "outputs": [],
   "source": [
    "import yake\n",
    "kw_extractor = yake.KeywordExtractor()\n",
    "text = \"\"\"I heard, that we can use Xanalia's NFTs on Metaverse.\"\"\"\n",
    "language = \"en\"\n",
    "max_ngram_size = 5\n",
    "deduplication_threshold = 0.5\n",
    "numOfKeywords = 20\n",
    "custom_kw_extractor = yake.KeywordExtractor(lan=language, n=max_ngram_size, dedupLim=deduplication_threshold, top=numOfKeywords, features=None)\n",
    "keywords = custom_kw_extractor.extract_keywords(text)\n",
    "for kw in keywords:\n",
    "    print(kw)"
   ]
  },
  {
   "cell_type": "code",
   "execution_count": 5,
   "id": "12db1cd0",
   "metadata": {},
   "outputs": [
    {
     "name": "stdout",
     "output_type": "stream",
     "text": [
      "Question: what is xana\n",
      "Answer: a community - driven decentralized nfts metaverse - virtual reality social platform\n",
      "Question: what zana is\n",
      "Answer: a community - driven decentralized nfts metaverse - virtual reality social platform\n",
      "Question: 🤗 Tell me more about xana\n",
      "Answer: xana is a community - driven decentralized nfts metaverse - virtual reality social platform powered by the ethereum and polygon blockchain\n",
      "Question: Is xana the same as ethereum\n",
      "Answer: a community - driven decentralized nfts metaverse - virtual reality social platform powered by the ethereum and polygon blockchain\n",
      "Question: Is xana and ethereum the same thing?\n",
      "Answer: polygon blockchain\n",
      "Question: Is xana a non fungible token?\n",
      "Answer: \n",
      "Question: What is the NFT token?\n",
      "Answer: non - fungible token\n",
      "Question: What is the primary utility token on XANA's Token-based ecosystem?\n",
      "Answer: $ xeta\n",
      "Question: what is xana nft token\n",
      "Answer: non - fungible token\n"
     ]
    }
   ],
   "source": [
    "from transformers import AutoTokenizer, AutoModelForQuestionAnswering\n",
    "import torch\n",
    "\n",
    "tokenizer = AutoTokenizer.from_pretrained(\"bert-large-uncased-whole-word-masking-finetuned-squad\")\n",
    "model = AutoModelForQuestionAnswering.from_pretrained(\"bert-large-uncased-whole-word-masking-finetuned-squad\")\n",
    "\n",
    "text = r\"\"\"\n",
    "🤗 XANA is a community-driven decentralized NFTs metaverse - virtual reality social platform powered by the Ethereum and Polygon blockchain. Within XANA, users can Roleplay, Build, and Trade contents of NFT (Non-Fungible Token) such as virtual Lands, Assets, Avatar, and even Games with the proof of actual permanent ownership to earn benefit from their creations. XANA's Token-based ecosystem is built around $XETA, the primary utility token of the platform on several blockchains such as Polygon and Binance Smart Chain.\n",
    "\"\"\"\n",
    "\n",
    "questions = [\n",
    "    \"what is xana\",\n",
    "    \"what zana is\",\n",
    "    \"🤗 Tell me more about xana\",\n",
    "    \"Is xana the same as ethereum\",\n",
    "    \"Is xana and ethereum the same thing?\",\n",
    "    \"Is xana a non fungible token?\",\n",
    "    \"What is the NFT token?\",\n",
    "    \"What is the primary utility token on XANA's Token-based ecosystem?\",\n",
    "    \"what is xana nft token\",\n",
    "]\n",
    "\n",
    "for question in questions:\n",
    "    inputs = tokenizer(question, text, add_special_tokens=True, return_tensors=\"pt\")\n",
    "    input_ids = inputs[\"input_ids\"].tolist()[0]\n",
    "\n",
    "    outputs = model(**inputs)\n",
    "    answer_start_scores = outputs.start_logits\n",
    "    answer_end_scores = outputs.end_logits\n",
    "\n",
    "    # Get the most likely beginning of answer with the argmax of the score\n",
    "    answer_start = torch.argmax(answer_start_scores)\n",
    "    # Get the most likely end of answer with the argmax of the score \n",
    "    answer_end = torch.argmax(answer_end_scores) + 1\n",
    "\n",
    "    answer = tokenizer.convert_tokens_to_string(tokenizer.convert_ids_to_tokens(input_ids[answer_start:answer_end]))\n",
    "\n",
    "    print(f\"Question: {question}\")\n",
    "    print(f\"Answer: {answer}\")"
   ]
  },
  {
   "cell_type": "code",
   "execution_count": null,
   "id": "e7ebc512",
   "metadata": {},
   "outputs": [],
   "source": [
    "!pip install yake"
   ]
  },
  {
   "cell_type": "code",
   "execution_count": null,
   "id": "8e26315a",
   "metadata": {},
   "outputs": [],
   "source": [
    "from rake_nltk import Rake\n",
    "rake_nltk_var = Rake()\n",
    "text = \"\"\"I heard, that we can use Xanalia's NFTs on Metaverse.\"\"\"\n",
    "rake_nltk_var.extract_keywords_from_text(text)\n",
    "keyword_extracted = rake_nltk_var.get_ranked_phrases()"
   ]
  },
  {
   "cell_type": "code",
   "execution_count": null,
   "id": "bb7c6d5c",
   "metadata": {},
   "outputs": [],
   "source": [
    "keyword_extracted"
   ]
  },
  {
   "cell_type": "code",
   "execution_count": null,
   "id": "c364dbdb",
   "metadata": {},
   "outputs": [],
   "source": [
    "!pip install rake_nltk"
   ]
  },
  {
   "cell_type": "code",
   "execution_count": null,
   "id": "f1f33007",
   "metadata": {},
   "outputs": [],
   "source": [
    "                                                                                                                                                                                                                                                                                                                                                                                                                                                                                                                                                                                                                                                                                                                                                                                                                                                                                                                                                                                                                                                                                                                                                                                                                                                                                                                                                                                                                                                                                                                                                                                                                                                                                                                                                                                                                                                                                             +++++++++++++++++++++++++++++++++++++++++++++++++++++++++++++++++++++++++++++++++++++++++++++++----------------------------------------------------------------------------------------------------------------------------------------------------------------------------------------------------------------------------------------------------------------------------------------------------------------------------------------------------------------------------------------------------------------------------------------------------------------------------------------------------------------------------------------------------------------------------------------------------------------------------------------------------------------------------------------------------------------------------------------------------------------------------------------------------------------------------------------------------------------------------------------------------------------------------------------------------------------------------------------------------------------------------------------------------------------------------------------------------------------------------------------------------------------------------------------------------------------------------------------------------------------------------------------------------------------------------------------------------------------------------------------------------------------------------------------------------------------------------------------------------------------------------------------------------------------------------------------------------------------------------------------------------------------------------------------------------------------------------------------------------------------------------------------------------------------------------------------------------------------------------------------------------------------------------------------------------------------------------------------------------------------------------------------------------------------------------------------------------------------------------------------------------------------------------------------------------------------------------------------------------------------------------------------------------------------------------------------------------------------------------------------------------------------------------------------------------------------------------------------------------------------------------------------------------------------------------------------------------------------------------------------------------------------------------------------------------------------------------------------------------------------------------------------------------------------------------------------------------------------------------------------------------------------------------------------------------------------------------------------------------------------------------------------------------------------------------------------------------------------------------------------------------------------------------------------------------------------------------------------------------------------------------------------------------------------------------------------------------------------------------------------------------------------------------------------------------------------------------------------------------------------------------------------------------------------------------------------------------------------------------------------------------------------------------------------------------------------------------------------------------------------------------------------------------------------------------------------------------------------------------------------------------------------------------------------------------------------------------------------------------------------------------------------------------------------------------------------------------------------------------------------------------------------------------------------------------------------------------------------------------------------------------------------------------------------------------------------------------------------------------------------------------------------------------------------------------------------------------------------------------------------------------------------------------------------------------------------------------------------------------------------------------------------------------------------------------------------------------------------------------------------------------------------------------------------------------------------------------------------------------------------------------------------------------------------------------------------------------------------------------------------------------------------------------------------------------------------------------------------------------------------------------------------------------------------------------------------------------------------------------------------------------------------------------------------------------------------------------------------------------------------------------------------------------------------------------------------------------------------------------------------------------------------------------------------------------------------------------------------------------------------------------------------------------------------------------------------------------------------------------------------------------------------------------------------------------------------------------------------------------------------------------------------------------------------------------------------------------------------------------------------------------------------------------------------------------------------------------------------------------------------------------------------------------------------------------------------------------------------------------------------------------------------------------------------------------------------------------------------------------------------------------------------------------------------------------------------------------------------------------------------------------------------------------------------------------------------------------------------------------------------------------------------------------------------------------------------------------------------------------------------------------------------------------------------------------------------------------------------------------------------------------------------------------------------------------------------------------------------------------------------------------------------------------------------------------------------------------------------------------------------------------------------------------------------------------------------------------------------------------------------------------------------------------------------------------------------------------------------------------------------------------------------------------------------------------------------------------------------------------------------------------------------------------------------------------------------------------------------------------------------------------------------------------------------------------------------------------------------------------------------------------------------                                                                     -"
   ]
  }
 ],
 "metadata": {
  "kernelspec": {
   "display_name": "Python 3",
   "language": "python",
   "name": "python3"
  },
  "language_info": {
   "codemirror_mode": {
    "name": "ipython",
    "version": 3
   },
   "file_extension": ".py",
   "mimetype": "text/x-python",
   "name": "python",
   "nbconvert_exporter": "python",
   "pygments_lexer": "ipython3",
   "version": "3.6.9"
  }
 },
 "nbformat": 4,
 "nbformat_minor": 5
}
